{
 "cells": [
  {
   "cell_type": "code",
   "execution_count": 5,
   "metadata": {},
   "outputs": [
    {
     "name": "stdout",
     "output_type": "stream",
     "text": [
      "On branch Richard_Keane\n",
      "Changes to be committed:\n",
      "  (use \"git reset HEAD <file>...\" to unstage)\n",
      "\n",
      "\t\u001b[32mnew file:   git.ipynb\u001b[m\n",
      "\n",
      "Changes not staged for commit:\n",
      "  (use \"git add <file>...\" to update what will be committed)\n",
      "  (use \"git checkout -- <file>...\" to discard changes in working directory)\n",
      "\n",
      "\t\u001b[31mmodified:   notebook_template.ipynb\u001b[m\n",
      "\n",
      "Untracked files:\n",
      "  (use \"git add <file>...\" to include in what will be committed)\n",
      "\n",
      "\t\u001b[31m.ipynb_checkpoints/\u001b[m\n",
      "\t\u001b[31m__pycache__/\u001b[m\n",
      "\n"
     ]
    }
   ],
   "source": [
    "!git status"
   ]
  },
  {
   "cell_type": "code",
   "execution_count": 2,
   "metadata": {},
   "outputs": [],
   "source": [
    "!git config --global user.email \"r.j.keane@leeds.ac.uk\"\n",
    "!git config --global user.name \"rjkeane\""
   ]
  },
  {
   "cell_type": "code",
   "execution_count": 3,
   "metadata": {},
   "outputs": [
    {
     "name": "stdout",
     "output_type": "stream",
     "text": [
      "fatal: A branch named 'Richard_Keane' already exists.\n"
     ]
    }
   ],
   "source": [
    "!git checkout -b Richard_Keane"
   ]
  },
  {
   "cell_type": "code",
   "execution_count": null,
   "metadata": {},
   "outputs": [],
   "source": [
    "#-----------------------------------------------------------------------------------------------------\n",
    "# here is an example reading daily tas for the Met office HadGEM3-GC31-LL model from the CMIP6 archive\n",
    "#-----------------------------------------------------------------------------------------------------\n",
    "from read_cmip6 import *\n",
    "import datetime\n",
    "tas=read_cmip6('ScenarioMIP','MOHC','HadGEM3-GC31-LL','ssp585','r1i1p1f3','day','tas','gn','v20200114','20150101-20491230')\n",
    "#print(tas)\n",
    "#time_coord = tas.coord('time')\n",
    "#time_unit = time_coord.units\n",
    "#data_times = time_unit.num2date(time_coord.points)\n",
    "#print(data_times[0], 'to', data_times[-1])"
   ]
  },
  {
   "cell_type": "code",
   "execution_count": null,
   "metadata": {},
   "outputs": [],
   "source": [
    "import iris.quickplot as qplt\n",
    "import matplotlib.pyplot as plt\n",
    "# Plot the mean of the last year minus the first year.\n",
    "qplt.pcolormesh(tas[-360:].collapsed('time',iris.analysis.MEAN)-tas[:360].collapsed('time',iris.analysis.MEAN),vmin=-4,vmax=4,cmap='bwr')\n",
    "plt.gca().coastlines()\n",
    "plt.show()"
   ]
  },
  {
   "cell_type": "code",
   "execution_count": null,
   "metadata": {},
   "outputs": [],
   "source": [
    "!git add git.ipynb\n",
    "!git commit -m \"Added some plotting code\""
   ]
  },
  {
   "cell_type": "code",
   "execution_count": null,
   "metadata": {},
   "outputs": [],
   "source": [
    "!git push --set-upstream origin Richard_Keane"
   ]
  }
 ],
 "metadata": {
  "kernelspec": {
   "display_name": "Python 3 + Jaspy",
   "language": "python",
   "name": "jaspy"
  },
  "language_info": {
   "codemirror_mode": {
    "name": "ipython",
    "version": 3
   },
   "file_extension": ".py",
   "mimetype": "text/x-python",
   "name": "python",
   "nbconvert_exporter": "python",
   "pygments_lexer": "ipython3",
   "version": "3.7.1"
  }
 },
 "nbformat": 4,
 "nbformat_minor": 4
}
