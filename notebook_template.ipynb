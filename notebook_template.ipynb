{
 "cells": [
  {
   "cell_type": "markdown",
   "metadata": {},
   "source": [
    "# Leeds Africa Hackathon\n",
    "This is a template notebook for the Leeds Africa Hackathon. It also includes some useful Python code to read CMIP6 data and CP4 data\n",
    "\n",
    "**CMIP6:** \n",
    "\n",
    "historical runs are in /badc/cmip6/data/CMIP6/CMIP/institute/model/historical/variant/table_id/variable/grid/version/\n",
    "\n",
    "scenario runs are in /badc/cmip6/data/CMIP6/ScenarioMIP/institute/model/scenario_name/variant/table_id/variable/grid/version/\n",
    "       \n",
    "**CP4:**\n",
    "\n",
    "4km data are in /badc/impala/data/explicit-4km/present_or_future>/1hr_or_mon/variable/"
   ]
  },
  {
   "cell_type": "code",
   "execution_count": null,
   "metadata": {},
   "outputs": [],
   "source": [
    "!ls /badc/cmip6/data/CMIP6/ScenarioMIP/MOHC/HadGEM3-GC31-LL/ssp585/r1i1p1f3/"
   ]
  },
  {
   "cell_type": "code",
   "execution_count": null,
   "metadata": {},
   "outputs": [],
   "source": [
    "!ls /badc/cmip6/data/CMIP6/CMIP/NCAR/CESM2/historical/"
   ]
  },
  {
   "cell_type": "code",
   "execution_count": null,
   "metadata": {},
   "outputs": [],
   "source": [
    "!ls /badc/impala/data/explicit-4km/future/mon/precipitation"
   ]
  },
  {
   "cell_type": "code",
   "execution_count": null,
   "metadata": {},
   "outputs": [],
   "source": [
    "#-----------------------------------------------------------------------------------------------------\n",
    "# here is an example reading daily tas for the Met office HadGEM3-GC31-LL model from the CMIP6 archive\n",
    "#-----------------------------------------------------------------------------------------------------\n",
    "from read_cmip6 import *\n",
    "import datetime\n",
    "tas=read_cmip6('ScenarioMIP','MOHC','HadGEM3-GC31-LL','ssp585','r1i1p1f3','day','tas','gn','v20200114','20150101-20491230')\n",
    "print(tas)\n",
    "time_coord = tas.coord('time')\n",
    "time_unit = time_coord.units\n",
    "data_times = time_unit.num2date(time_coord.points)\n",
    "print(data_times[0], 'to', data_times[-1])"
   ]
  },
  {
   "cell_type": "code",
   "execution_count": 1,
   "metadata": {},
   "outputs": [
    {
     "name": "stdout",
     "output_type": "stream",
     "text": [
      "reading 1997/03 to 1997/06\n",
      "air_temperature / (K)               (time: 2880; latitude: 2100; longitude: 2000)\n",
      "     Dimension coordinates:\n",
      "          time                           x               -                -\n",
      "          latitude                       -               x                -\n",
      "          longitude                      -               -                x\n",
      "     Scalar coordinates:\n",
      "          height: 1.5 m\n",
      "     Attributes:\n",
      "          CDI: Climate Data Interface version 1.9.5 (http://mpimet.mpg.de/cdi)\n",
      "          CDO: Climate Data Operators version 1.9.5 (http://mpimet.mpg.de/cdo)\n",
      "          Conventions: CF-1.5\n",
      "          NCO: 4.7.3\n",
      "          PP_LBPROC: 0\n",
      "          PP_LBTIM: 12\n",
      "          PP_MEAN_PERIOD: 0.0\n",
      "          STASH: m01s03i236\n",
      "          contact: cath.senior@metoffice.gov.uk\n",
      "          copyright: (C) Crown Copyright, 2015 the Met Office\n",
      "          description: hourly instantaneous data\n",
      "          history: Source data files originally generated using cmorize v0.1.5b and subsequently...\n",
      "          institution: Met Office Hadley Centre\n",
      "          model: Regional GA7 configuration of Unified Model on Africa with 4.5 km horizontal...\n",
      "          model_description: Stratton et al. (2018) A Pan-African Convection-Permitting Regional Climate...\n",
      "          project_id: IMPALA\n",
      "          run: explicit-4km\n",
      "          run_experiment: present\n",
      "          source: Data from Met Office Unified Model\n",
      "          um_runid: ac144\n",
      "          um_streamid: apc\n",
      "          um_version: 10.3\n",
      "1997-03-01 01:00:00 to 1997-07-01 00:00:00\n"
     ]
    }
   ],
   "source": [
    "#-----------------------------------------------------------------------------------------------------\n",
    "# Here is an example reading present hourly tas for the CP4 archive\n",
    "# this only reads a few months as it takes a long time to read all 10 years\n",
    "#-----------------------------------------------------------------------------------------------------\n",
    "from read_cp4 import *\n",
    "import datetime\n",
    "start_year=1997\n",
    "start_month=3\n",
    "end_year=1997\n",
    "end_month=6\n",
    "tas=read_cp4('1hr','tas', start_year, start_month, end_year, end_month)\n",
    "print(tas)\n",
    "time_coord = tas.coord('time')\n",
    "time_unit = time_coord.units\n",
    "data_times = time_unit.num2date(time_coord.points)\n",
    "print(data_times[0], 'to', data_times[-1])"
   ]
  },
  {
   "cell_type": "code",
   "execution_count": 2,
   "metadata": {},
   "outputs": [
    {
     "name": "stdout",
     "output_type": "stream",
     "text": [
      "reading 2095/03 to 2105/02\n",
      "precipitation_flux / (kg m-2 s-1)   (time: 120; latitude: 2100; longitude: 2000)\n",
      "     Dimension coordinates:\n",
      "          time                           x              -                -\n",
      "          latitude                       -              x                -\n",
      "          longitude                      -              -                x\n",
      "     Attributes:\n",
      "          CDI: Climate Data Interface version 1.9.3 (http://mpimet.mpg.de/cdi)\n",
      "          CDO: Climate Data Operators version 1.9.3 (http://mpimet.mpg.de/cdo)\n",
      "          Conventions: CF-1.5\n",
      "          NCO: netCDF Operators version 4.7.5 (Homepage = http://nco.sf.net, Code = h...\n",
      "          PP_LBPROC: 128\n",
      "          PP_LBTIM: 122\n",
      "          PP_MEAN_PERIOD: 1.0\n",
      "          STASH: m01s04i203\n",
      "          contact: cath.senior@metoffice.gov.uk\n",
      "          copyright: (C) Crown Copyright, 2015 the Met Office\n",
      "          description: monthly means calculated from hourly means\n",
      "          history: Source data files originally generated using cmorize v0.1.5b and subsequently...\n",
      "          institution: Met Office Hadley Centre\n",
      "          model: Regional GA7 configuration of Unified Model on Africa with 4.5 km horizontal...\n",
      "          model_description: Stratton et al. (2018) A Pan-African Convection-Permitting Regional Climate...\n",
      "          nco_openmp_thread_number: 1\n",
      "          project_id: IMPALA\n",
      "          run: explicit-4km\n",
      "          run_experiment: future\n",
      "          source: Data from Met Office Unified Model\n",
      "          um_streamid: apa\n",
      "          um_version: 10.3\n",
      "     Cell methods:\n",
      "          mean: time (1 hour)\n",
      "2095-03-16 00:00:00 to 2105-02-16 00:00:00\n"
     ]
    }
   ],
   "source": [
    "#-----------------------------------------------------------------------------------------------------\n",
    "# here is an example reading all 10 future years of monthly precip for the CP4 archive\n",
    "#-----------------------------------------------------------------------------------------------------\n",
    "from read_cp4 import *\n",
    "import datetime\n",
    "start_year=2095\n",
    "start_month=3\n",
    "end_year=2105\n",
    "end_month=2\n",
    "pr=read_cp4('mon','pr', start_year, start_month, end_year, end_month)\n",
    "print(pr)\n",
    "time_coord = pr.coord('time')\n",
    "time_unit = time_coord.units\n",
    "data_times = time_unit.num2date(time_coord.points)\n",
    "print(data_times[0], 'to', data_times[-1])"
   ]
  },
  {
   "cell_type": "code",
   "execution_count": null,
   "metadata": {},
   "outputs": [],
   "source": []
  }
 ],
 "metadata": {
  "kernelspec": {
   "display_name": "Python 3 + Jaspy",
   "language": "python",
   "name": "jaspy"
  },
  "language_info": {
   "codemirror_mode": {
    "name": "ipython",
    "version": 3
   },
   "file_extension": ".py",
   "mimetype": "text/x-python",
   "name": "python",
   "nbconvert_exporter": "python",
   "pygments_lexer": "ipython3",
   "version": "3.7.1"
  }
 },
 "nbformat": 4,
 "nbformat_minor": 4
}
