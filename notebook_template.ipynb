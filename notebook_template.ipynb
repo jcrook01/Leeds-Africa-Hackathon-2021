{
 "cells": [
  {
   "cell_type": "markdown",
   "metadata": {},
   "source": [
    "# Leeds Africa Hackathon\n",
    "This is a template notebook for the Leeds Africa Hackathon. It also includes some useful Python code to read CMIP6 data and CP4 data\n",
    "\n",
    "**CMIP6:** \n",
    "\n",
    "Historical runs (1850-2014) are in /badc/cmip6/data/CMIP6/CMIP/*institute*/*model*/historical/*variant*/*table_id*/*variable*/*grid*/*version*/\n",
    "\n",
    "Scenario runs are in /badc/cmip6/data/CMIP6/ScenarioMIP/*institute*/*model*/*scenario_name*/*variant*/*table_id*/*variable*/*grid*/*version*/\n",
    "*scenario_name* is likely to be one of ssp119, ssp126, ssp245, ssp370 or ssp585\n",
    "\n",
    "*scenario_name* is likely to be one of ssp119, ssp126, ssp245, ssp370 or ssp585\n",
    "\n",
    "*variant* takes the form r0i0p0f0, e.g. r1i1p1f2, where the numbers are the indexes for:  \n",
    "**r**ealization, **i**nitialization, **p**hysics, **f**orcing\n",
    "\n",
    "*table_id* generally indicates the frequency of the data, e.g. day, 3hr, Amon\n",
    "\n",
    "*grid* is the model grid being used, e.g. gn, where  \n",
    "   * gm = global mean data  \n",
    "   * gn = data reported on a model's native grid  \n",
    "   * gr1 = regridded data reported on a grid other than the native grid and other than the preferred target grid  \n",
    "It is likely the *grid* will be the native grid, i.e. gn\n",
    "\n",
    "*version* normally in the form vYYYYMMDD or latest, e.g. v20200203\n",
    "\n",
    "\n",
    "The following institutions have data in both historical and ScenarioMIPs:\n",
    "AS-RCEC, AWI, BCC, CAMS, CAS, CCCR-IITM, CCCma, CMCC, CNRM-CERFACS, CSIRO, CSIRO-ARCCSS, E3SM-Project, EC-Earth-Consortium, FIO-QLNM, HAMMOZ-Consortium, INM, IPSL, KIOST, MIROC, MOHC, MPI-M, MRI, NASA-GISS, NCAR, NCC, NIMS-KMA, NOAA-GFDL, NUIST, THU, UA\n",
    "       \n",
    "**CP4:**\n",
    "\n",
    "4km data are in /badc/impala/data/explicit-4km/*present_or_future*>/*1hr_or_mon*/*variable*/"
   ]
  },
  {
   "cell_type": "code",
   "execution_count": null,
   "metadata": {},
   "outputs": [],
   "source": [
    "!ls /badc/cmip6/data/CMIP6/ScenarioMIP/*/*/ssp585/*/day/tas/gn/"
   ]
  },
  {
   "cell_type": "code",
   "execution_count": null,
   "metadata": {},
   "outputs": [],
   "source": [
    "!ls /badc/cmip6/data/CMIP6/CMIP/*/*/historical"
   ]
  },
  {
   "cell_type": "code",
   "execution_count": null,
   "metadata": {},
   "outputs": [],
   "source": [
    "!ls /badc/impala/data/explicit-4km/future/1hr/precipitation/"
   ]
  },
  {
   "cell_type": "code",
   "execution_count": null,
   "metadata": {},
   "outputs": [],
   "source": [
    "#-----------------------------------------------------------------------------------------------------\n",
    "# here is an example reading daily tas for the Met office HadGEM3-GC31-LL model for the SSP585 scenario\n",
    "# from the CMIP6 archive\n",
    "#-----------------------------------------------------------------------------------------------------\n",
    "from read_cmip6 import *\n",
    "import datetime\n",
    "tas=read_cmip6('ScenarioMIP','MOHC','HadGEM3-GC31-LL','ssp585','r1i1p1f3','day','tas','gn','v20200114','20150101-20491230')\n",
    "print(tas)\n",
    "time_coord = tas.coord('time')\n",
    "time_unit = time_coord.units\n",
    "data_times = time_unit.num2date(time_coord.points)\n",
    "print(data_times[0], 'to', data_times[-1])"
   ]
  },
  {
   "cell_type": "code",
   "execution_count": null,
   "metadata": {},
   "outputs": [],
   "source": [
    "#-----------------------------------------------------------------------------------------------------\n",
    "# Here is an example reading present hourly tas for the CP4 archive\n",
    "# this only reads a few months as it takes a long time to read all 10 years\n",
    "#-----------------------------------------------------------------------------------------------------\n",
    "from read_cp4 import *\n",
    "import datetime\n",
    "start_year=1997\n",
    "start_month=3\n",
    "end_year=1997\n",
    "end_month=6\n",
    "tas=read_cp4('1hr','tas', start_year, start_month, end_year, end_month)\n",
    "print(tas)\n",
    "time_coord = tas.coord('time')\n",
    "time_unit = time_coord.units\n",
    "data_times = time_unit.num2date(time_coord.points)\n",
    "print(data_times[0], 'to', data_times[-1])"
   ]
  },
  {
   "cell_type": "code",
   "execution_count": null,
   "metadata": {},
   "outputs": [],
   "source": [
    "#-----------------------------------------------------------------------------------------------------\n",
    "# here is an example reading all 10 future years of monthly precip for the CP4 archive\n",
    "#-----------------------------------------------------------------------------------------------------\n",
    "from read_cp4 import *\n",
    "import datetime\n",
    "start_year=2095\n",
    "start_month=3\n",
    "end_year=2105\n",
    "end_month=2\n",
    "pr=read_cp4('mon','pr', start_year, start_month, end_year, end_month)\n",
    "print(pr)\n",
    "time_coord = pr.coord('time')\n",
    "time_unit = time_coord.units\n",
    "data_times = time_unit.num2date(time_coord.points)\n",
    "print(data_times[0], 'to', data_times[-1])"
   ]
  },
  {
   "cell_type": "code",
   "execution_count": null,
   "metadata": {},
   "outputs": [],
   "source": []
  }
 ],
 "metadata": {
  "kernelspec": {
   "display_name": "Python 3 + Jaspy",
   "language": "python",
   "name": "jaspy"
  },
  "language_info": {
   "codemirror_mode": {
    "name": "ipython",
    "version": 3
   },
   "file_extension": ".py",
   "mimetype": "text/x-python",
   "name": "python",
   "nbconvert_exporter": "python",
   "pygments_lexer": "ipython3",
   "version": "3.7.1"
  }
 },
 "nbformat": 4,
 "nbformat_minor": 4
}
