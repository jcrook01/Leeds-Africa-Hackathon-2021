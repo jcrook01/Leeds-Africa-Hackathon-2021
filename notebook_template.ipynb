{
 "cells": [
  {
   "cell_type": "markdown",
   "metadata": {},
   "source": [
    "# Leeds Africa Hackathon\n",
    "This is a template notebook for the Leeds Africa Hackathon. It also includes some useful Python code to read CMIP6 data and CP4 data and perform percentile stats (stats_utils.py) as used for Fitzpatrick et al. Climatic Change 2020.\n",
    "\n",
    "**CMIP6:** \n",
    "\n",
    "Historical runs (1850-2014) are in /badc/cmip6/data/CMIP6/CMIP/*institute*/*model*/historical/*variant*/*table_id*/*variable*/*grid*/*version*/\n",
    "\n",
    "Scenario runs are in /badc/cmip6/data/CMIP6/ScenarioMIP/*institute*/*model*/*scenario_name*/*variant*/*table_id*/*variable*/*grid*/*version*/\n",
    "*scenario_name* is likely to be one of ssp119, ssp126, ssp245, ssp370 or ssp585\n",
    "\n",
    "*variant* takes the form r0i0p0f0, e.g. r1i1p1f2, where the numbers are the indexes for:  \n",
    "**r**ealization, **i**nitialization, **p**hysics, **f**orcing\n",
    "\n",
    "*table_id* generally indicates the frequency of the data, e.g. day, 3hr, Amon\n",
    "\n",
    "*grid* is the model grid being used, e.g. gn, where  \n",
    "   * gm = global mean data  \n",
    "   * gn = data reported on a model's native grid  \n",
    "   * gr1 = regridded data reported on a grid other than the native grid and other than the preferred target grid  \n",
    "It is likely the *grid* will be the native grid, i.e. gn\n",
    "\n",
    "*version* normally in the form vYYYYMMDD or latest, e.g. v20200203\n",
    "\n",
    "\n",
    "The following institutions have data in both historical and ScenarioMIPs:\n",
    "AS-RCEC, AWI, BCC, CAMS, CAS, CCCR-IITM, CCCma, CMCC, CNRM-CERFACS, CSIRO, CSIRO-ARCCSS, E3SM-Project, EC-Earth-Consortium, FIO-QLNM, HAMMOZ-Consortium, INM, IPSL, KIOST, MIROC, MOHC, MPI-M, MRI, NASA-GISS, NCAR, NCC, NIMS-KMA, NOAA-GFDL, NUIST, THU, UA\n",
    "\n",
    "Any CMIP6 data that is pre-processed should be stored in the group workspace /gws/pw/j05/cop26_hackathons/leeds/. For data that is useful to all teams this should be organised in a similar way to the CMIP6 data so it is clear where it came form, i.e. for future scenarios this is /gws/pw/j05/cop26_hackathons/leeds/<*institute*>/<*model*>/<*scenario_name*>/<*variant*>/<*version*>/<*variable*>/.\n",
    "For historical data this is\n",
    "/gws/pw/j05/cop26_hackathons/leeds/<*institute*>/<*model*>/historical/<*variant*>/<*version*>/<*variable*>/.\n",
    "For data that is specific to the team, please store it under /gws/pw/j05/cop26_hackathons/leeds/*TeamName*/.\n",
    "\n",
    "We have pre-processed some HadGEM3 data to test our provided stats code and stored it in the group workspace. For example the 50th percentile of future tasmax is stored in tasmax_50th_percentile_2050-2079_*{m}*_*{region_str}*  (2050-2079 was used for future and 1985-2014 for current), *m* is is the month and *region_str* is the region for which we extracted data covering Africa, i.e. 20W55E_30S30N.\n",
    "\n",
    "**CP4:**\n",
    "\n",
    "explicit 4km data are in /badc/impala/data/explicit-4km/<*present_or_future*>/<*1hr_or_mon*>/<*variable*>/\n",
    "\n",
    "parameterised 25km data are in /badc/impala/data/param-25km/<*present_or_future*>/<*1hr_or_mon*>/<*variable*>/\n",
    "\n",
    "It takes a long time to process hourly 4km data. Therefore we have pre-processed CP4 hourly tas data to create daily tasmax, tasmin and tas mean data regridded to 25km. This has been done for West Africa 20W20E_00N25N and East Africa 20E55E_15SN15N. These are stored in /gws/pw/j05/cop26_hackathons/leeds/CP4/explicit-4km/<*present_or_future*>/ under tasmax, tasmin and tas. We have also created daily mean rainrates under /gws/pw/j05/cop26_hackathons/leeds/CP4/explicit-4km/<*present_or_future*>/pr/. There is one file per month and year. We have done the same for param-25km.\n",
    "\n"
   ]
  },
  {
   "cell_type": "code",
   "execution_count": null,
   "metadata": {},
   "outputs": [],
   "source": [
    "!ls /badc/cmip6/data/CMIP6/ScenarioMIP/*/*/ssp585/*/day/tas/gn/"
   ]
  },
  {
   "cell_type": "code",
   "execution_count": null,
   "metadata": {},
   "outputs": [],
   "source": [
    "!ls /badc/cmip6/data/CMIP6/CMIP/MOHC/HadGEM3-GC31-LL/historical/r1i1p1f3/day/tasmax/gn/v20190624"
   ]
  },
  {
   "cell_type": "code",
   "execution_count": null,
   "metadata": {},
   "outputs": [],
   "source": [
    "!ls /gws/pw/j05/cop26_hackathons/leeds/CMIP6/MOHC/HadGEM3-GC31-LL/ssp585/r1i1p1f3/v20200114"
   ]
  },
  {
   "cell_type": "code",
   "execution_count": null,
   "metadata": {},
   "outputs": [],
   "source": [
    "!ls /badc/impala/data/explicit-4km/future/1hr/precipitation/"
   ]
  },
  {
   "cell_type": "code",
   "execution_count": null,
   "metadata": {},
   "outputs": [],
   "source": [
    "!ls /gws/pw/j05/cop26_hackathons/leeds/CP4/explicit-4km/future/tasmax"
   ]
  },
  {
   "cell_type": "code",
   "execution_count": null,
   "metadata": {},
   "outputs": [],
   "source": [
    "!ls /gws/pw/j05/cop26_hackathons/leeds/CMIP6/MOHC/HadGEM3-GC31-LL/ssp585/r1i1p1f3/v20200114"
   ]
  },
  {
   "cell_type": "code",
   "execution_count": null,
   "metadata": {},
   "outputs": [],
   "source": [
    "#-----------------------------------------------------------------------------------------------------\n",
    "# here is an example reading daily tas for the Met office HadGEM3-GC31-LL model for the SSP585 scenario\n",
    "# from the CMIP6 archive\n",
    "#-----------------------------------------------------------------------------------------------------\n",
    "from read_cmip6 import *\n",
    "import datetime\n",
    "tas=read_cmip6('ScenarioMIP','MOHC','HadGEM3-GC31-LL','ssp585','r1i1p1f3','day','tas','gn','v20200114','20150101-20491230')\n",
    "print(tas)\n",
    "time_coord = tas.coord('time')\n",
    "time_unit = time_coord.units\n",
    "data_times = time_unit.num2date(time_coord.points)\n",
    "print(data_times[0], 'to', data_times[-1])"
   ]
  },
  {
   "cell_type": "code",
   "execution_count": null,
   "metadata": {},
   "outputs": [],
   "source": [
    "#-----------------------------------------------------------------------------------------------------\n",
    "# Here is an example reading present hourly tas for the 25km parameterised CP4 archive\n",
    "# this only reads a few months as it takes a long time to read all 10 years\n",
    "#-----------------------------------------------------------------------------------------------------\n",
    "from read_cp4 import *\n",
    "import datetime\n",
    "start_year=1997\n",
    "start_month=3\n",
    "end_year=1997\n",
    "end_month=6\n",
    "tas=read_cp4(False,'1hr','tas', start_year, start_month, end_year, end_month)\n",
    "print(tas)\n",
    "time_coord = tas.coord('time')\n",
    "time_unit = time_coord.units\n",
    "data_times = time_unit.num2date(time_coord.points)\n",
    "print(data_times[0], 'to', data_times[-1])"
   ]
  },
  {
   "cell_type": "code",
   "execution_count": null,
   "metadata": {},
   "outputs": [],
   "source": [
    "#-----------------------------------------------------------------------------------------------------\n",
    "# here is an example reading all 10 future years of monthly precip for the 4km explicit CP4 archive\n",
    "#-----------------------------------------------------------------------------------------------------\n",
    "from read_cp4 import *\n",
    "import datetime\n",
    "start_year=2095\n",
    "start_month=3\n",
    "end_year=2105\n",
    "end_month=2\n",
    "pr=read_cp4(True, 'mon','pr', start_year, start_month, end_year, end_month)\n",
    "print(pr)\n",
    "time_coord = pr.coord('time')\n",
    "time_unit = time_coord.units\n",
    "data_times = time_unit.num2date(time_coord.points)\n",
    "print(data_times[0], 'to', data_times[-1])"
   ]
  },
  {
   "cell_type": "code",
   "execution_count": null,
   "metadata": {},
   "outputs": [],
   "source": [
    "#-----------------------------------------------------------------------------------------------------\n",
    "# This plots 50 percentiles for Africa for a HadGEM3 model for current and ssp585 future scenario,\n",
    "# the difference, and where the 50th percentile of ssp585 sits within the current variability\n",
    "#-----------------------------------------------------------------------------------------------------\n",
    "from plot_cmip6_tasmax_50th_percentile import *\n",
    "\n",
    "institute='MOHC'\n",
    "model='HadGEM3-GC31-LL'\n",
    "fc_experiment='ssp585'\n",
    "cc_experiment='historical'\n",
    "variant='r1i1p1f3'\n",
    "fc_version='v20200114'\n",
    "cc_version='v20190624'\n",
    "lon_range=[-20,55]\n",
    "lat_range=[-30,30]\n",
    "fc_year_range=[2050,2079]\n",
    "cc_year_range=[1985,2014]\n",
    "levels_diff = np.arange(0.5, 6, 0.25)\n",
    "plot_cmip6_tasmax_50th_percentile(institute, model, fc_experiment, cc_experiment, variant, fc_version, cc_version, lat_range, lon_range, fc_year_range, cc_year_range,5, levels_diff)"
   ]
  },
  {
   "cell_type": "code",
   "execution_count": null,
   "metadata": {},
   "outputs": [],
   "source": [
    "#-----------------------------------------------------------------------------------------------------\n",
    "# This plots 50 percentiles for Africa for CP4 explicit-4km for current and future scenario,\n",
    "# the difference, and where the 50th percentile of ssp585 sits within the current variability\n",
    "#-----------------------------------------------------------------------------------------------------\n",
    "from plot_cp4_tasmax_50th_percentile import *\n",
    "\n",
    "lon_range=[-20,20]\n",
    "lat_range=[0,25]\n",
    "levels_diff = np.arange(3, 8, 0.25)\n",
    "plot_cp4_tasmax_50th_percentile(True, lat_range, lon_range, 5, levels_diff)"
   ]
  },
  {
   "cell_type": "code",
   "execution_count": null,
   "metadata": {},
   "outputs": [],
   "source": []
  },
  {
   "cell_type": "code",
   "execution_count": null,
   "metadata": {},
   "outputs": [],
   "source": []
  }
 ],
 "metadata": {
  "kernelspec": {
   "display_name": "Python 3 + Jaspy",
   "language": "python",
   "name": "jaspy"
  },
  "language_info": {
   "codemirror_mode": {
    "name": "ipython",
    "version": 3
   },
   "file_extension": ".py",
   "mimetype": "text/x-python",
   "name": "python",
   "nbconvert_exporter": "python",
   "pygments_lexer": "ipython3",
   "version": "3.7.1"
  }
 },
 "nbformat": 4,
 "nbformat_minor": 4
}
