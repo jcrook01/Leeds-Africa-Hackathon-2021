{
 "cells": [
  {
   "cell_type": "markdown",
   "metadata": {},
   "source": [
    "# Using `climate_indecies` python package to calculate climate indecies\n",
    "\n",
    "2021/5/20, Leif Denby\n",
    "\n",
    "Steps:\n",
    "\n",
    "1. Install climate_indecies python package. We do this by first cloning the repository and installing with pip\n",
    "2. Compute `spie` climate index. I had a look in `tests/` folder in the repository path to work out what functions to call (since they don't explain this in the documentation)"
   ]
  },
  {
   "cell_type": "code",
   "execution_count": 1,
   "metadata": {},
   "outputs": [
    {
     "name": "stdout",
     "output_type": "stream",
     "text": [
      "Cloning into 'climate_indices'...\n",
      "remote: Enumerating objects: 4476, done.\u001b[K\n",
      "remote: Total 4476 (delta 0), reused 0 (delta 0), pack-reused 4476\u001b[K\n",
      "Receiving objects: 100% (4476/4476), 5.90 MiB | 1.64 MiB/s, done.\n",
      "Resolving deltas: 100% (2749/2749), done.\n"
     ]
    }
   ],
   "source": [
    "!git clone https://github.com/monocongo/climate_indices"
   ]
  },
  {
   "cell_type": "code",
   "execution_count": 2,
   "metadata": {},
   "outputs": [
    {
     "name": "stdout",
     "output_type": "stream",
     "text": [
      "Untitled.ipynb\t convorg\t  eurec4auk\t\t   ministry   paracon\n",
      "Untitled1.ipynb  downloads\t  git-repos\t\t   notebooks  projects\n",
      "bin\t\t dyamond2\t  jupyter.sock\t\t   outbox\n",
      "climate_indices  eurec4a-env-dev  lagtraj.testdata.tar.gz  packages\n"
     ]
    }
   ],
   "source": [
    "!ls"
   ]
  },
  {
   "cell_type": "code",
   "execution_count": 3,
   "metadata": {},
   "outputs": [
    {
     "name": "stdout",
     "output_type": "stream",
     "text": [
      "Defaulting to user installation because normal site-packages is not writeable\n",
      "Collecting climate_indices\n",
      "  Downloading climate_indices-1.0.9-py3-none-any.whl (70 kB)\n",
      "\u001b[K     |████████████████████████████████| 70 kB 3.9 MB/s  eta 0:00:01\n",
      "\u001b[?25hRequirement already satisfied: toolz in /opt/jaspy/lib/python3.7/site-packages (from climate_indices) (0.9.0)\n",
      "Requirement already satisfied: dask in ./.local/lib/python3.7/site-packages (from climate_indices) (2021.1.1)\n",
      "Requirement already satisfied: xarray in ./.local/lib/python3.7/site-packages (from climate_indices) (0.16.2)\n",
      "Requirement already satisfied: netcdf4 in /opt/jaspy/lib/python3.7/site-packages (from climate_indices) (1.4.2)\n",
      "Requirement already satisfied: numpy in ./.local/lib/python3.7/site-packages (from climate_indices) (1.19.4)\n",
      "Requirement already satisfied: scipy in /opt/jaspy/lib/python3.7/site-packages (from climate_indices) (1.1.0)\n",
      "Requirement already satisfied: numba in ./.local/lib/python3.7/site-packages (from climate_indices) (0.52.0)\n",
      "Requirement already satisfied: pyyaml in /opt/jaspy/lib/python3.7/site-packages (from dask->climate_indices) (3.13)\n",
      "Collecting nco\n",
      "  Downloading nco-1.0.0-py2.py3-none-any.whl (10 kB)\n",
      "Requirement already satisfied: cftime in /opt/jaspy/lib/python3.7/site-packages (from netcdf4->climate_indices) (1.0.3.4)\n",
      "Requirement already satisfied: setuptools in /opt/jaspy/lib/python3.7/site-packages (from numba->climate_indices) (40.6.3)\n",
      "Requirement already satisfied: llvmlite<0.36,>=0.35.0 in ./.local/lib/python3.7/site-packages (from numba->climate_indices) (0.35.0)\n",
      "Requirement already satisfied: pandas>=0.25 in ./.local/lib/python3.7/site-packages (from xarray->climate_indices) (1.0.5)\n",
      "Requirement already satisfied: python-dateutil>=2.6.1 in /opt/jaspy/lib/python3.7/site-packages (from pandas>=0.25->xarray->climate_indices) (2.7.5)\n",
      "Requirement already satisfied: pytz>=2017.2 in /opt/jaspy/lib/python3.7/site-packages (from pandas>=0.25->xarray->climate_indices) (2018.7)\n",
      "Requirement already satisfied: six>=1.5 in /opt/jaspy/lib/python3.7/site-packages (from python-dateutil>=2.6.1->pandas>=0.25->xarray->climate_indices) (1.12.0)\n",
      "Installing collected packages: nco, climate-indices\n",
      "\u001b[33m  WARNING: The scripts process_climate_indices and spi are installed in '/home/users/lcdenby/.local/bin' which is not on PATH.\n",
      "  Consider adding this directory to PATH or, if you prefer to suppress this warning, use --no-warn-script-location.\u001b[0m\n",
      "Successfully installed climate-indices-1.0.9 nco-1.0.0\n"
     ]
    }
   ],
   "source": [
    "!pip install climate_indices"
   ]
  },
  {
   "cell_type": "code",
   "execution_count": 4,
   "metadata": {},
   "outputs": [],
   "source": [
    "import climate_indices"
   ]
  },
  {
   "cell_type": "code",
   "execution_count": 9,
   "metadata": {},
   "outputs": [],
   "source": [
    "from climate_indices import compute, indices\n",
    "import numpy as np"
   ]
  },
  {
   "cell_type": "code",
   "execution_count": 11,
   "metadata": {},
   "outputs": [
    {
     "data": {
      "text/plain": [
       "array([232.05147707, 212.10002492, 250.59632712, 232.12560848,\n",
       "       242.66981044, 238.12614258, 277.61921309, 254.45241109,\n",
       "       239.53058073, 260.81915405, 221.1979046 , 231.53887566,\n",
       "       220.63569241, 203.73571131, 252.07025232, 270.70190826,\n",
       "       261.04795785, 240.50421563, 246.30927008, 251.70753931,\n",
       "       227.70836194, 242.43613721, 241.22127388, 223.12154052,\n",
       "       244.77793087, 229.55009655, 231.36269814, 253.8980208 ,\n",
       "       264.89786458, 241.48055394, 253.84598049, 266.56445897,\n",
       "       232.58353415, 241.55791859, 252.21007473, 224.54853181,\n",
       "       259.16332858, 226.72307178, 269.04149778, 249.35010573,\n",
       "       265.95946144, 235.57843294, 251.94338512, 259.21519623,\n",
       "       248.05001221, 239.50989704, 226.48183419, 219.45071428,\n",
       "       236.84512527, 214.30425599, 254.28941286, 261.4259335 ,\n",
       "       252.07904484, 239.62527221, 250.36929689, 264.70362868,\n",
       "       251.60571734, 247.08092877, 237.88179349, 250.63967078,\n",
       "       230.12303782, 227.58974735, 267.68096335, 247.90790045,\n",
       "       277.22818443, 250.4434154 , 280.28295155, 272.37492471,\n",
       "       245.52581276, 254.81768855, 224.2420593 , 235.94905354,\n",
       "       236.97891557, 216.18290951, 261.28585975, 237.501697  ,\n",
       "       254.28839259, 267.25960449, 272.19922465, 248.96689204,\n",
       "       253.7644087 , 265.64348485, 250.37445956, 248.37670676,\n",
       "       257.79239178, 218.2296435 , 240.74683384, 245.95001963,\n",
       "       252.84932189, 234.31941951, 278.37344348, 239.63623176,\n",
       "       238.11543312, 268.05555663, 232.07466848, 254.93497274,\n",
       "       230.63875565, 232.93570094, 254.73788299, 236.44773007])"
      ]
     },
     "execution_count": 11,
     "metadata": {},
     "output_type": "execute_result"
    }
   ],
   "source": [
    "temperature = np.random.random((100,)) + 30.0\n",
    "lat = 10.0\n",
    "start_year = 2020\n",
    "\n",
    "indices.pet(temperature, lat, start_year)"
   ]
  },
  {
   "cell_type": "markdown",
   "metadata": {},
   "source": [
    "'precips_mm: numpy.ndarray', 'pet_mm: numpy.ndarray', 'scale: int', 'distribution: climate_indices.indices.Distribution', 'periodicity: climate_indices.compute.Periodicity', 'data_start_year: int', 'calibration_year_initial: int', 'calibration_year_final: int', 'fitting_params: dict = None'"
   ]
  },
  {
   "cell_type": "code",
   "execution_count": 22,
   "metadata": {},
   "outputs": [
    {
     "data": {
      "text/plain": [
       "array([nan, nan, nan, nan, nan, nan, nan, nan, nan, nan])"
      ]
     },
     "execution_count": 22,
     "metadata": {},
     "output_type": "execute_result"
    }
   ],
   "source": [
    "kwargs = dict(\n",
    "    precips_mm = np.random.random((10,)) + 10.0,\n",
    "    pet_mm = np.random.random((10,)) + 10.0,\n",
    "    scale = 1,\n",
    "    distribution = indices.Distribution.gamma,\n",
    "    periodicity = indices.compute.Periodicity.monthly,\n",
    "    data_start_year = 2020,\n",
    "    calibration_year_initial = 2020,\n",
    "    calibration_year_final = 2020,\n",
    "    fitting_params=None\n",
    ")\n",
    "\n",
    "indices.spei(**kwargs)"
   ]
  },
  {
   "cell_type": "code",
   "execution_count": 23,
   "metadata": {},
   "outputs": [
    {
     "name": "stdout",
     "output_type": "stream",
     "text": [
      "users users open ukmo_wx gws_paracon_rdg gws_eurec4auk eurec4auk-o-members gws_cop26_hackathon_leeds\n"
     ]
    }
   ],
   "source": [
    "!groups"
   ]
  },
  {
   "cell_type": "code",
   "execution_count": null,
   "metadata": {},
   "outputs": [],
   "source": []
  }
 ],
 "metadata": {
  "kernelspec": {
   "display_name": "Python 3 + Jaspy",
   "language": "python",
   "name": "jaspy"
  },
  "language_info": {
   "codemirror_mode": {
    "name": "ipython",
    "version": 3
   },
   "file_extension": ".py",
   "mimetype": "text/x-python",
   "name": "python",
   "nbconvert_exporter": "python",
   "pygments_lexer": "ipython3",
   "version": "3.7.1"
  }
 },
 "nbformat": 4,
 "nbformat_minor": 4
}
