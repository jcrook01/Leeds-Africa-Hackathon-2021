#Script for calculating and plotting the 99th percentile of precipitation over West Africa of the multimodel mean of a list of CMIP6 models. 
#The script reads in a preprocesed CMIP6 multimodel mean data (which has been processed separateley with a bash script which selected the MJJAS season over West Africa and computed the multimodel mean)
#This work was part of the Leeds MOAP Hackathon, 2021
#The script was written by Michael Baidu, PhD Reseacher, Institute of Climate and Atmosperic Science (ICAS), University of Leeds. email: eembai@leeds.ac.uk twitter: @MichaelBaidu1

import numpy as np
import matplotlib.pyplot as plt
import matplotlib as mp1
from netCDF4 import Dataset

#-----------------------------------------------
import os

# New package for this week
import cartopy.crs as ccrs
import cartopy.feature as cfeature

#-----------------------------------------------
import cartopy
import matplotlib.ticker as mticker
from cartopy.mpl.ticker import LongitudeFormatter, LatitudeFormatter

# Set the font dictionaries (for plot title and axis titles)
title_font = {'fontname':'Arial', 'size':'16', 'color':'black', 'weight':'normal',
              'verticalalignment':'bottom'} # Bottom vertical alignment for more spac
quiverkey_font = {'color':'black'} # Bottom vertical alignment for more spac
plt.rcParams.update({'font.size': 16})
 

model='Multimodel_mean'

period='near_future'



filename_CMIP6_ensemble_mean='/gws/pw/j05/cop26_hackathons/leeds/ministry/Michael/models/pr_day_ssp585_MJJAS_Multimodel_mean_latlon_regid_WA.nc'


nc_fid = Dataset(filename_CMIP6_ensemble_mean,'r')  

slats = nc_fid.variables['lat'][:]
slons = nc_fid.variables['lon'][:]

plot_lats=slats
plot_lons=slons
#**********************************************************************

precip=nc_fid.variables['pr'][:]



fig = plt.figure(figsize=(10,10))
ax1 = fig.add_subplot(1,1,1,projection=ccrs.PlateCarree())
# Add coastlines
ax1.add_feature(cfeature.COASTLINE,linewidth=2.0)
ax1.coastlines(resolution='50m')
ax1.add_feature(cfeature.BORDERS, linestyle=':')

#Compute 99 percentile of precipitation
limit=np.nanpercentile(precip,99)

precip_extreme=np.where((precip)>limit,(precip),np.nan)

#Compute the timmean of precip
mean_precip=np.nanmean(precip_extreme,axis=0)

im1=ax1.contourf(plot_lons[:],plot_lats[:], mean_precip[:,:],cmap=plt.cm.BuPu,extend='both')

ax1.set_title('99th %tile MJJAS precip: ssp585 '+str(model)+' ('+str(period)+')')

cax = fig.add_axes([0.1, 0.08, 0.8, 0.02])# left, bottom, width, height
cbar = fig.colorbar(im1, cax=cax, extend='both',orientation='horizontal')
cbar.formatter.set_scientific(True)
cbar.formatter.set_powerlimits((0,0))
cbar.ax.set_xlabel('Mean precipitation flux ($kg m^{-2} s^{-1}$)')

plt.savefig('/gws/pw/j05/cop26_hackathons/leeds/ministry/Michael/plots/Mean_precip_flux_ssp585_ScenarioMIP_'+str(model)+'_'+str(period)+'_MJJAS_simplified_WA.png')
plt.show()
