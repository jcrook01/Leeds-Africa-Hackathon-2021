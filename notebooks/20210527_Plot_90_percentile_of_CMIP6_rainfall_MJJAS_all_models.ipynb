#Script for calculating and plotting the 99th percentile of precipitation over West Africa from a list of CMIP6 models. 
#The script reads in a preprocesed CMIP6 data (which has been processed separateley with a bash script which selected the MJJAS season over West Africa)
#This work was part of the Leeds MOAP Hackathon, 2021
#The script was written by Michael Baidu, PhD Reseacher, Institute of Climate and Atmosperic Science (ICAS), University of Leeds. email: eembai@leeds.ac.uk twitter: @MichaelBaidu1

import numpy as np
import matplotlib.pyplot as plt
import matplotlib as mp1
from netCDF4 import Dataset
#-----------------------------------------------
import os

# New package for this week
import cartopy.crs as ccrs
import cartopy.feature as cfeature
#-----------------------------------------------
import cartopy
import matplotlib.ticker as mticker
from cartopy.mpl.ticker import LongitudeFormatter, LatitudeFormatter

# Set the font dictionaries (for plot title and axis titles)
title_font = {'fontname':'Arial', 'size':'16', 'color':'black', 'weight':'normal',
              'verticalalignment':'bottom'} # Bottom vertical alignment for more spac
quiverkey_font = {'color':'black'} # Bottom vertical alignment for more spac
plt.rcParams.update({'font.size': 16})


models=['ACCESS-CM2', 'ACCESS-ESM1-5', 'BCC-CSM2-MR', 'CAMS-CSM1-0', 'CanESM5', 'MPI-ESM1-2-LR', 'NorESM2-LM', 'NorESM2-MM', 'TaiESM1', 'UKESM1-0-LL']


for model in models:
	if model == 'TaiESM1':
		institute='AS-RCEC'
		variant='r1i1p1f1'
		version='v20200902'
		period='20550101-20641231'
	elif  model == 'BCC-CSM2-MR':
		institute='BCC'
		variant='r1i1p1f1'
		version='v20190318'
		period='20400101-20641231'
	elif  model == 'CAMS-CSM1-0':
		institute='CAMS'
		variant='r2i1p1f1'
		version='v20191106'
		period='20150101-20991231'
	elif model == 'CanESM5':
		institute='CCCma'
		variant='r10i1p1f1'
		version='v20190429'
		period='20150101-21001231'
	elif    model == 'ACCESS-ESM1-5':
		institute='CSIRO'
		variant='r1i1p1f1'
		version='v20191115'
		period='20150101-20641231'
	elif    model == 'ACCESS-CM2':
		institute='CSIRO-ARCCSS'
		variant='r1i1p1f1'
		version='v20191108'
		period='20150101-20641231'
	elif model == 'MPI-ESM1-2-LR':
		institute='MPI-M'
		variant='r1i1p1f1'
		version='v20190710'
		period='20350101-20541231'
	elif model == 'NorESM2-LM':
		institute='NCC'
		variant='r1i1p1f1'
		version='20191108'
		period='20310101-20401231'
	elif model =='NorESM2-MM':
		institute='NCC'
		variant='r1i1p1f1'
		version='20191108'
		period='20310101-20401231'
	elif model == 'UKESM1-0-LL':
		institute='NIMS-KMA'
		variant='r13i1p1f2'
		version='v20210428'
		period='20150101-20491230'
	




	
	filename_CMIP6='/gws/pw/j05/cop26_hackathons/leeds/ministry/Michael/models/pr_day_'+str(model)+'_ssp585_'+str(period)+'_MJJAS_simplified_latlon_regrid_WA.nc'


	nc_fid = Dataset(filename_CMIP6,'r')  

	slats = nc_fid.variables['lat'][:]
	slons = nc_fid.variables['lon'][:]

	plot_lats=slats
	plot_lons=slons
	#**********************************************************************
	precip=nc_fid.variables['pr'][:]
	
	fig = plt.figure(figsize=(10,10))#
	ax1 = fig.add_subplot(1,1,1,projection=ccrs.PlateCarree())
	# Add coastlines
	ax1.add_feature(cfeature.COASTLINE,linewidth=2.0)
	ax1.coastlines(resolution='50m')
	ax1.add_feature(cfeature.BORDERS, linestyle=':')

	

	#Compute 99 percentile of precipitation
	limit=np.nanpercentile(precip,99) #99th percentile

	precip_extreme=np.where((precip)>limit,(precip),np.nan)

	#Compute the timmean of precip
	mean_precip=np.nanmean(precip_extreme,axis=0)
	



	im1=ax1.contourf(plot_lons[:],plot_lats[:], mean_precip[:,:],cmap=plt.cm.BuPu,extend='both')

	#**Edit too
	ax1.set_title('99th %tile MJJAS precip: ssp585 '+str(model)+' ('+str(period)+')')
	

	cax = fig.add_axes([0.1, 0.08, 0.8, 0.02])# left, bottom, width, height
	cbar = fig.colorbar(im1, cax=cax, extend='both',orientation='horizontal')

	cbar.formatter.set_scientific(True)
	cbar.formatter.set_powerlimits((0,0))
	cbar.ax.set_xlabel('Mean precipitation flux ($kg m^{-2} s^{-1}$)')


	plt.savefig('/gws/pw/j05/cop26_hackathons/leeds/ministry/Michael/plots/Mean_precip_flux_ssp585_ScenarioMIP_'+str(institute)+'_'+str(model)+'_MJJAS_simplified_WA.png')
	plt.show()
