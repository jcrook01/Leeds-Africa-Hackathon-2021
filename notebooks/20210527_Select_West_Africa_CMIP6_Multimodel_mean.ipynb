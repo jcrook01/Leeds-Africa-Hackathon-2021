#!/bin/bash
shopt -s extglob
# Michael Baidu     21/05/21

#Warning: THIS IS A BASH SCRIPT AND NOT A PYTHON SCRIPT!
#Script for preprocessing data from a list of CMIP6 models. The multimodel mean for a list of CMIP6 models over West Africa is computed for the MJJAS season. This is with the purpose of analysing precipitation extremes by computing the 99th percentile of the precipitation (which is done later with the python script: /gws/pw/j05/cop26_hackathons/leeds/ministry/notebooks/20210527_Plot_90_percentile_of_CMIP6_rainfall_MJJAS_Multimodel_mean.ipynb)

#This work was part of the Leeds MOAP Hackathon, 2021
#The script was written by Michael Baidu, PhD Researcher, Institute of Climate and Atmospheric Science (ICAS), University of Leeds. email: eembai@leeds.ac.uk twitter: @MichaelBaidu1 

output_dir=/gws/pw/j05/cop26_hackathons/leeds/ministry/Michael/models


cdo -O ensmean ${output_dir}/pr_day_*_ssp585_*_MJJAS_simplified_latlon_regrid_WA.nc ${output_dir}/pr_day_ssp585_MJJAS_Multimodel_mean_latlon_regid_WA.nc
