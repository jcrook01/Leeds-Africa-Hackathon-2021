{
 "cells": [
  {
   "cell_type": "markdown",
   "metadata": {},
   "source": [
    "# __CMIP6 Model Choices__\n",
    "\n",
    "Model choices defined by - DFID: LaunchPAD Project, Oxford University, UK Met Office.\n",
    "\n",
    "For full documentation see: https://github.com/Priority-on-African-Diagnostics\n",
    "\n",
    "Project website: https://launchpad6.home.blog/\n",
    "\n",
    "20-5-21, Tom Webb, York University, tom.webb@york.ac.uk : dictionaries to generate paths for model choices."
   ]
  },
  {
   "cell_type": "code",
   "execution_count": 7,
   "metadata": {},
   "outputs": [],
   "source": [
    "import collections\n",
    "import os,sys"
   ]
  },
  {
   "cell_type": "code",
   "execution_count": 8,
   "metadata": {},
   "outputs": [],
   "source": [
    "def level1_d(mod,vari):\n",
    "  \n",
    "    group = group_list[mod]\n",
    "    var = var_list[mod] \n",
    "\n",
    "    if vari=='tas':\n",
    "        day='day' \n",
    "    if vari=='pr':\n",
    "        day='day'\n",
    "    if vari=='ts':\n",
    "        day='Eday' \n",
    "     \n",
    "    #print(CMIP6_base,group,dash,mod,CMIP6_type,var,dash,'day',dash,vari,dash,'gr',CMIP6_file)   \n",
    "    #only one grid is usually present but not always - here f3 is highest preference grid\n",
    "    mod_dir1 = CMIP6_base+group+dash+mod+CMIP6_type+var+dash+day+dash+vari+dash+'gr'+CMIP6_file\n",
    "    mod_dir2 = CMIP6_base+group+dash+mod+CMIP6_type+var+dash+day+dash+vari+dash+'gn'+CMIP6_file\n",
    "    mod_dir3 = CMIP6_base+group+dash+mod+CMIP6_type+var+dash+day+dash+vari+dash+'gr1'+CMIP6_file\n",
    "    \n",
    "    return mod_dir1, mod_dir2, mod_dir3"
   ]
  },
  {
   "cell_type": "raw",
   "metadata": {},
   "source": [
    "#computing centre dictionary\n",
    "group_list = collections.OrderedDict()\n",
    "\n",
    "group_list ={'UKESM1-0-LL':'MOHC','CNRM-CM6-1':'CNRM-CERFACS', 'MRI-ESM2-0':'MRI', 'GFDL-CM4':'NOAA-GFDL','GISS-E2-1-G':'NASA-GISS','HadGEM3-GC31-LL':'MOHC','TaiESM1':'AS-RCEC','AWI-CM-1-1-MR':'AWI','BCC-CSM2-MR':'BCC','BCC-ESM1':'BCC','CAMS-CSM1-0':'CAMS','FGOALS-f3-L':'CAS','FGOALS-g3':'CAS','CanESM5':'CCCma','CNRM-ESM2-1':'CNRM-CERFACS','ACCESS-ESM1-5':'CSIRO','ACCESS-CM2':'CSIRO-ARCCSS','FIO-ESM-2-0':'FIO-QLNM','MPI-ESM-1-2-HAM':'HAMMOZ-Consortium','INM-CM4-8':'INM','INM-CM5-0':'INM','IPSL-CM6A-LR':'IPSL','MIROC6':'MIROC','HadGEM3-GC31-MM':'MOHC','MPI-ESM1-2-HR':'MPI-M','MPI-ESM1-2-LR':'MPI-M','CESM2':'NCAR','NorCPM1':'NCC','NorESM2-LM':'NCC','NorESM2-MM':'NCC','NESM3':'NUIST','SAM0-UNICON':'SNU'}\n",
    "\n",
    "#varient dictionary - use 1st varient\n",
    "var_list = collections.OrderedDict()\n",
    "\n",
    "var_list ={'UKESM1-0-LL':'r1i1p1f2','CNRM-CM6-1':'r1i1p1f2', 'MRI-ESM2-0':'r1i1p1f1', 'GFDL-CM4':'r1i1p1f1','GISS-E2-1-G':'r1i1p1f1','HadGEM3-GC31-LL':'r1i1p1f3','TaiESM1':'r1i1p1f1','AWI-CM-1-1-MR':'r1i1p1f1','BCC-CSM2-MR':'r1i1p1f1','BCC-ESM1':'r1i1p1f1','CAMS-CSM1-0':'r1i1p1f1','FGOALS-f3-L':'r1i1p1f1','FGOALS-g3':'r1i1p1f1','CanESM5':'r1i1p1f1','CNRM-ESM2-1':'r1i1p1f2','ACCESS-ESM1-5':'r1i1p1f1','ACCESS-CM2':'r1i1p1f1','FIO-ESM-2-0':'r1i1p1f1','MPI-ESM-1-2-HAM':'r1i1p1f1','INM-CM4-8':'r1i1p1f1','INM-CM5-0':'r1i1p1f1','IPSL-CM6A-LR':'r1i1p1f1','MIROC6':'r1i1p1f1','HadGEM3-GC31-MM':'r1i1p1f3','MPI-ESM1-2-HR':'r1i1p1f1','MPI-ESM1-2-LR':'r1i1p1f1','CESM2':'r1i1p1f1','NorCPM1':'r1i1p1f1','NorESM2-LM':'r1i1p1f1','NorESM2-MM':'r1i1p1f1','NESM3':'r1i1p1f1','SAM0-UNICON':'r1i1p1f1'}\n",
    "\n",
    "#model list\n",
    "mod_list = ['UKESM1-0-LL', 'CNRM-CM6-1', 'MRI-ESM2-0', 'GISS-E2-1-G', 'MPI-ESM-1-2-HAM', 'IPSL-CM6A-LR', 'MIROC6', 'MPI-ESM1-2-HR', 'MPI-ESM1-2-LR', 'NorESM2-LM', 'TaiESM1', 'CNRM-ESM2-1', 'NorESM2-MM', 'BCC-CSM2-MR', 'BCC-ESM1', 'CAMS-CSM1-0', 'FGOALS-f3-L', 'FGOALS-g3', 'CanESM5', 'ACCESS-ESM1-5', 'ACCESS-CM2', 'INM-CM4-8', 'INM-CM5-0', 'HadGEM3-GC31-MM', 'CESM2', 'NorCPM1', 'NESM3', 'SAM0-UNICON']\n",
    "\n",
    "CMIP6_base = '/badc/cmip6/data/CMIP6/CMIP/'\n",
    "CMIP6_type = '/historical/' #change experiment here\n",
    "CMIP6_file = '/latest/' #change run number here\n",
    "dash = '/'\n",
    "\n",
    "var='tas'\n",
    "for i in mod_list:   \n",
    "    seter=False\n",
    "    f1, f2, f3 = level1_d(i,var)\n",
    "    if os.path.exists(f1):\n",
    "        file1=f1\n",
    "        seter=True\n",
    "    if os.path.exists(f2):\n",
    "        file1=f2\n",
    "        seter=True\n",
    "    if os.path.exists(f3):\n",
    "        file1=f3\n",
    "        seter=True\n",
    "    if seter:\n",
    "        #print(file1)\t\n",
    "        f = open(var+\"_m.txt\", \"a\")\n",
    "        f.write(file1+'*.nc'+'\\n')\n",
    "        f.close()"
   ]
  },
  {
   "cell_type": "markdown",
   "metadata": {},
   "source": [
    "Find files produces a text file for each variable containing the path to each CMIP6 model that we want to injest later. This can then be used with a bash script for quick CDO processing, for example:"
   ]
  },
  {
   "cell_type": "raw",
   "metadata": {},
   "source": [
    "input=\"tas.txt\"\n",
    "declare -A filesystem=( [\"1\"]=\"UKESM1-0-LL\" [\"2\"]=\"CNRM-CM6-1\" [\"3\"]=\"MRI-ESM2-0\" [\"4\"]=\"GISS-E2-1-G\" [\"5\"]=\"MPI-ESM-1-2-HAM\" [\"6\"]=\"IPSL-CM6A-LR\" [\"7\"]=\"MIROC6\" [\"8\"]=\"MPI-ESM1-2-HR\" [\"9\"]=\"MPI-ESM1-2-LR\" [\"10\"]=\"NorESM2-LM\" [\"11\"]=\"TaiESM1\" [\"12\"]=\"CNRM-ESM2-1\" [\"13\"]=\"NorESM2-MM\" [\"14\"]=\"BCC-CSM2-MR\" [\"15\"]=\"BCC-ESM1\" [\"16\"]=\"CAMS-CSM1-0\" [\"17\"]=\"FGOALS-f3-L\" [\"18\"]=\"FGOALS-g3\" [\"19\"]=\"CanESM5\" [\"20\"]=\"ACCESS-ESM1-5\" [\"21\"]=\"ACCESS-CM2\" [\"22\"]=\"INM-CM4-8\" [\"23\"]=\"INM-CM5-0\" [\"24\"]=\"HadGEM3-GC31-MM\" [\"25\"]=\"CESM2\" [\"26\"]=\"NorCPM1\" [\"27\"]=\"NESM3\" [\"28\"]=\"SAM0-UNICON\")\n",
    "\n",
    "TEMPFILE=tc.tmp\n",
    "\n",
    "i=0\n",
    "while IFS= read -r line\n",
    "do\n",
    "  ((i=i+1))\n",
    "  \n",
    "  echo \"${filesystem[$i]}\"\n",
    "  cdo mergetime $line \"${filesystem[$i]}\"tas.nc\n",
    "  \n",
    " echo \"$line\" \n",
    "  \n",
    "done < \"$input\""
   ]
  },
  {
   "cell_type": "code",
   "execution_count": null,
   "metadata": {},
   "outputs": [],
   "source": []
  }
 ],
 "metadata": {
  "kernelspec": {
   "display_name": "Python 3 + Jaspy",
   "language": "python",
   "name": "jaspy"
  },
  "language_info": {
   "codemirror_mode": {
    "name": "ipython",
    "version": 3
   },
   "file_extension": ".py",
   "mimetype": "text/x-python",
   "name": "python",
   "nbconvert_exporter": "python",
   "pygments_lexer": "ipython3",
   "version": "3.7.1"
  }
 },
 "nbformat": 4,
 "nbformat_minor": 4
}
