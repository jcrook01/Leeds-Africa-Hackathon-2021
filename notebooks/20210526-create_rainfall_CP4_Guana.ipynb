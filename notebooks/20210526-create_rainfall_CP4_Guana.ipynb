{
 "cells": [
  {
   "cell_type": "markdown",
   "metadata": {},
   "source": [
    "# Pre-processing of CP4 precipitation dataset for Leeds Met Office Hackathon - Ministry for Food and Agriculture, Guana Group\n",
    "\n",
    "#### Using Iris for NetCDF data load and processing\n",
    "\n",
    "##### Timothy Lam t.lam@exeter.ac.uk"
   ]
  },
  {
   "cell_type": "markdown",
   "metadata": {},
   "source": [
    "#### Imports"
   ]
  },
  {
   "cell_type": "code",
   "execution_count": 25,
   "metadata": {},
   "outputs": [],
   "source": [
    "import matplotlib.pyplot as plt\n",
    "%matplotlib inline\n",
    "\n",
    "import numpy as np\n",
    "\n",
    "import os\n",
    "\n",
    "import iris\n",
    "\n",
    "import iris.quickplot as qplt\n",
    "import iris.coord_categorisation as coord_cat\n",
    "\n",
    "import pandas as pd\n",
    "\n",
    "import xarray as xr "
   ]
  },
  {
   "cell_type": "markdown",
   "metadata": {},
   "source": [
    "#### Set data path"
   ]
  },
  {
   "cell_type": "code",
   "execution_count": 3,
   "metadata": {},
   "outputs": [],
   "source": [
    "DATA_PATH = '/gws/pw/j05/cop26_hackathons/leeds/CP4/explicit-4km/present/pr/'"
   ]
  },
  {
   "cell_type": "markdown",
   "metadata": {},
   "source": [
    "#### Combine NetCDF files"
   ]
  },
  {
   "cell_type": "code",
   "execution_count": 3,
   "metadata": {},
   "outputs": [
    {
     "name": "stdout",
     "output_type": "stream",
     "text": [
      "<xarray.Dataset>\n",
      "Dimensions:             (bnds: 2, latitude: 107, longitude: 114, time: 3600)\n",
      "Coordinates:\n",
      "  * latitude            (latitude) float64 0.1172 0.3516 0.5859 ... 24.73 24.96\n",
      "  * longitude           (longitude) float64 -19.86 -19.51 -19.16 ... 19.51 19.86\n",
      "  * time                (time) object 1997-03-01 12:00:00 ... 2007-02-30 12:00:00\n",
      "Dimensions without coordinates: bnds\n",
      "Data variables:\n",
      "    a04203              (time, latitude, longitude) float32 dask.array<shape=(3600, 107, 114), chunksize=(30, 107, 114)>\n",
      "    latitude_longitude  (time) int32 -2147483647 -2147483647 ... -2147483647\n",
      "    time_bnds           (time, bnds) float64 dask.array<shape=(3600, 2), chunksize=(30, 2)>\n",
      "Attributes:\n",
      "    CDI:             Climate Data Interface version 1.9.3 (http://mpimet.mpg....\n",
      "    CDO:             Climate Data Operators version 1.9.3 (http://mpimet.mpg....\n",
      "    PP_LBPROC:       128\n",
      "    PP_LBTIM:        122\n",
      "    PP_MEAN_PERIOD:  1.0\n",
      "    contact:         rachel.stratton@metoffice.gov.uk\n",
      "    copyright:       (C) Crown Copyright, 2015 the Met Office\n",
      "    experiment:      CP4\n",
      "    experiment_id:   ac144\n",
      "    institution:     Met Office Hadley Centre\n",
      "    institution_id:  MOHC\n",
      "    model:           Regional GA7 configuration on Africa 4.5 km\n",
      "    model_id:        mean\n",
      "    project_id:      IMPALA\n",
      "    source:          Data from Met Office Unified Model\n",
      "    um_runid:        ac144\n",
      "    um_streamid:     apa\n",
      "    um_version:      10.3\n",
      "    Conventions:     CF-1.5\n"
     ]
    }
   ],
   "source": [
    "precip_path = xr.open_mfdataset(DATA_PATH + 'explicit-4km_daily_pr_*_20W20E_00N25N.nc', concat_dim=\"time\")\n",
    "\n",
    "#precip_EXR1 = xr.open_mfdataset('Aphrodite/EXR1/APHRO*.nc',combine = 'by_coords', concat_dim=\"time\")\n",
    "print (precip_path)\n",
    "#print (precip_EXR1)\n",
    "#precip_EXR1.to_netcdf('Aphrodite_EXR1.nc')"
   ]
  },
  {
   "cell_type": "code",
   "execution_count": 4,
   "metadata": {},
   "outputs": [
    {
     "name": "stdout",
     "output_type": "stream",
     "text": [
      "[########################################] | 100% Completed | 44.6s\n"
     ]
    }
   ],
   "source": [
    "from dask.diagnostics import ProgressBar\n",
    "\n",
    "time_to_netcdf = precip_path.to_netcdf ('CP4.nc', compute = False)\n",
    "\n",
    "with ProgressBar():\n",
    "    results = time_to_netcdf.compute()"
   ]
  },
  {
   "cell_type": "markdown",
   "metadata": {},
   "source": [
    "#### Check variables of the NetCDF file"
   ]
  },
  {
   "cell_type": "code",
   "execution_count": 26,
   "metadata": {},
   "outputs": [
    {
     "name": "stdout",
     "output_type": "stream",
     "text": [
      "stratiform_rainfall_rate / (kg m-2 s-1) (time: 3600; latitude: 107; longitude: 114)\n",
      "     Dimension coordinates:\n",
      "          time                               x               -               -\n",
      "          latitude                           -               x               -\n",
      "          longitude                          -               -               x\n",
      "     Attributes:\n",
      "          CDI: Climate Data Interface version 1.9.3 (http://mpimet.mpg.de/cdi)\n",
      "          CDO: Climate Data Operators version 1.9.3 (http://mpimet.mpg.de/cdo)\n",
      "          Conventions: CF-1.5\n",
      "          PP_LBPROC: 128\n",
      "          PP_LBTIM: 122\n",
      "          PP_MEAN_PERIOD: 1.0\n",
      "          STASH: m01s04i203\n",
      "          contact: rachel.stratton@metoffice.gov.uk\n",
      "          copyright: (C) Crown Copyright, 2015 the Met Office\n",
      "          experiment: CP4\n",
      "          experiment_id: ac144\n",
      "          institution: Met Office Hadley Centre\n",
      "          institution_id: MOHC\n",
      "          model: Regional GA7 configuration on Africa 4.5 km\n",
      "          model_id: mean\n",
      "          project_id: IMPALA\n",
      "          source: Data from Met Office Unified Model\n",
      "          um_runid: ac144\n",
      "          um_streamid: apa\n",
      "          um_version: 10.3\n",
      "     Cell methods:\n",
      "          mean: time (1 hour)\n",
      "          mean: time\n"
     ]
    }
   ],
   "source": [
    "precip_path = iris.load('CP4.nc')\n",
    "print (precip_path[0])"
   ]
  },
  {
   "cell_type": "markdown",
   "metadata": {},
   "source": [
    "#### Load monthly precipitation data into an Iris cube"
   ]
  },
  {
   "cell_type": "code",
   "execution_count": 27,
   "metadata": {},
   "outputs": [
    {
     "name": "stdout",
     "output_type": "stream",
     "text": [
      "CP4.nc\n"
     ]
    }
   ],
   "source": [
    "precip_path = os.path.join('CP4.nc')\n",
    "print (precip_path)\n",
    "precip = iris.load_cube(precip_path, 'stratiform_rainfall_rate')\n",
    "precip.coord('latitude').guess_bounds()\n",
    "precip.coord('longitude').guess_bounds()"
   ]
  },
  {
   "cell_type": "markdown",
   "metadata": {},
   "source": [
    "#### Plot some data"
   ]
  },
  {
   "cell_type": "code",
   "execution_count": 10,
   "metadata": {},
   "outputs": [
    {
     "data": {
      "text/plain": [
       "<cartopy.mpl.feature_artist.FeatureArtist at 0x7fb4cc755d68>"
      ]
     },
     "execution_count": 10,
     "metadata": {},
     "output_type": "execute_result"
    },
    {
     "data": {
      "image/png": "[encoded data removed]",
      "text/plain": [
       "<Figure size 432x288 with 2 Axes>"
      ]
     },
     "metadata": {
      "needs_background": "light"
     },
     "output_type": "display_data"
    }
   ],
   "source": [
    "qplt.pcolormesh(precip[0]) # plot the first time in the cube\n",
    "plt.gca().coastlines()"
   ]
  },
  {
   "cell_type": "markdown",
   "metadata": {},
   "source": [
    "#### Extract Guana region (by Courtesy of Michael)"
   ]
  },
  {
   "cell_type": "code",
   "execution_count": 28,
   "metadata": {},
   "outputs": [],
   "source": [
    "# Create a constraint for the latitude and Longitude extents \n",
    "\n",
    "N_Guana_lat = iris.Constraint(latitude=lambda v: v >= 8 and v <= 11 )\n",
    "N_Guana_lon = iris.Constraint(longitude=lambda v: v >= -3.5 and v <= 1.2 )\n",
    "\n",
    "S_Guana_lat = iris.Constraint(latitude=lambda v: v >= 4.5 and v <= 8 )\n",
    "S_Guana_lon = iris.Constraint(longitude=lambda v: v >= -3.5 and v <= 1.2 )\n",
    "\n",
    "N_Guana_precip =  precip.extract(N_Guana_lat & N_Guana_lon) \n",
    "S_Guana_precip =  precip.extract(S_Guana_lat & S_Guana_lon) "
   ]
  },
  {
   "cell_type": "code",
   "execution_count": 12,
   "metadata": {},
   "outputs": [
    {
     "name": "stdout",
     "output_type": "stream",
     "text": [
      "stratiform_rainfall_rate / (kg m-2 s-1) (time: 3600; latitude: 13; longitude: 14)\n",
      "     Dimension coordinates:\n",
      "          time                               x               -              -\n",
      "          latitude                           -               x              -\n",
      "          longitude                          -               -              x\n",
      "     Attributes:\n",
      "          CDI: Climate Data Interface version 1.9.3 (http://mpimet.mpg.de/cdi)\n",
      "          CDO: Climate Data Operators version 1.9.3 (http://mpimet.mpg.de/cdo)\n",
      "          Conventions: CF-1.5\n",
      "          PP_LBPROC: 128\n",
      "          PP_LBTIM: 122\n",
      "          PP_MEAN_PERIOD: 1.0\n",
      "          STASH: m01s04i203\n",
      "          contact: rachel.stratton@metoffice.gov.uk\n",
      "          copyright: (C) Crown Copyright, 2015 the Met Office\n",
      "          experiment: CP4\n",
      "          experiment_id: ac144\n",
      "          institution: Met Office Hadley Centre\n",
      "          institution_id: MOHC\n",
      "          model: Regional GA7 configuration on Africa 4.5 km\n",
      "          model_id: mean\n",
      "          project_id: IMPALA\n",
      "          source: Data from Met Office Unified Model\n",
      "          um_runid: ac144\n",
      "          um_streamid: apa\n",
      "          um_version: 10.3\n",
      "     Cell methods:\n",
      "          mean: time (1 hour)\n",
      "          mean: time\n",
      "stratiform_rainfall_rate / (kg m-2 s-1) (time: 3600; latitude: 16; longitude: 14)\n",
      "     Dimension coordinates:\n",
      "          time                               x               -              -\n",
      "          latitude                           -               x              -\n",
      "          longitude                          -               -              x\n",
      "     Attributes:\n",
      "          CDI: Climate Data Interface version 1.9.3 (http://mpimet.mpg.de/cdi)\n",
      "          CDO: Climate Data Operators version 1.9.3 (http://mpimet.mpg.de/cdo)\n",
      "          Conventions: CF-1.5\n",
      "          PP_LBPROC: 128\n",
      "          PP_LBTIM: 122\n",
      "          PP_MEAN_PERIOD: 1.0\n",
      "          STASH: m01s04i203\n",
      "          contact: rachel.stratton@metoffice.gov.uk\n",
      "          copyright: (C) Crown Copyright, 2015 the Met Office\n",
      "          experiment: CP4\n",
      "          experiment_id: ac144\n",
      "          institution: Met Office Hadley Centre\n",
      "          institution_id: MOHC\n",
      "          model: Regional GA7 configuration on Africa 4.5 km\n",
      "          model_id: mean\n",
      "          project_id: IMPALA\n",
      "          source: Data from Met Office Unified Model\n",
      "          um_runid: ac144\n",
      "          um_streamid: apa\n",
      "          um_version: 10.3\n",
      "     Cell methods:\n",
      "          mean: time (1 hour)\n",
      "          mean: time\n"
     ]
    }
   ],
   "source": [
    "print (N_Guana_precip)\n",
    "print (S_Guana_precip)"
   ]
  },
  {
   "cell_type": "markdown",
   "metadata": {},
   "source": [
    "#### Plot some data to check"
   ]
  },
  {
   "cell_type": "code",
   "execution_count": 13,
   "metadata": {},
   "outputs": [
    {
     "data": {
      "text/plain": [
       "<cartopy.mpl.feature_artist.FeatureArtist at 0x7fb4cc7526a0>"
      ]
     },
     "execution_count": 13,
     "metadata": {},
     "output_type": "execute_result"
    },
    {
     "data": {
      "image/png": "[encoded data removed]",
      "text/plain": [
       "<Figure size 432x288 with 2 Axes>"
      ]
     },
     "metadata": {
      "needs_background": "light"
     },
     "output_type": "display_data"
    }
   ],
   "source": [
    "qplt.pcolormesh(S_Guana_precip[0]) # plot the rainfall in the first time step\n",
    "plt.gca().coastlines()"
   ]
  },
  {
   "cell_type": "markdown",
   "metadata": {},
   "source": [
    "#### Save to new NetCDF files for the extracted region"
   ]
  },
  {
   "cell_type": "code",
   "execution_count": 9,
   "metadata": {},
   "outputs": [],
   "source": [
    "# iris.save(W_Africa_precip, DATA_PATH + 'W_Africa_chirps.nc')"
   ]
  },
  {
   "cell_type": "markdown",
   "metadata": {},
   "source": [
    "#### Open the NetCDF file for the extracted region"
   ]
  },
  {
   "cell_type": "code",
   "execution_count": 10,
   "metadata": {},
   "outputs": [
    {
     "name": "stdout",
     "output_type": "stream",
     "text": [
      "Climate Hazards group InfraRed Precipitation with Stations / (mm/day) (time: 14579; latitude: 162; longitude: 160)\n",
      "     Dimension coordinates:\n",
      "          time                                                             x                -               -\n",
      "          latitude                                                         -                x               -\n",
      "          longitude                                                        -                -               x\n",
      "     Attributes:\n",
      "          Conventions: CF-1.7\n",
      "          acknowledgements: The Climate Hazards Group InfraRed Precipitation with Stations development...\n",
      "          comments:  time variable denotes the first day of the given day.\n",
      "          creator_email: pete@geog.ucsb.edu\n",
      "          creator_name: Pete Peterson\n",
      "          date_created: 2015-10-07\n",
      "          documentation: http://pubs.usgs.gov/ds/832/\n",
      "          faq: http://chg-wiki.geog.ucsb.edu/wiki/CHIRPS_FAQ\n",
      "          ftp_url: ftp://chg-ftpout.geog.ucsb.edu/pub/org/chg/products/CHIRPS-latest/\n",
      "          geostatial_lat_max: 50.0\n",
      "          geostatial_lat_min: -50.0\n",
      "          geostatial_lon_max: 180.0\n",
      "          geostatial_lon_min: -180.0\n",
      "          history: created by Climate Hazards Group\n",
      "          institution: Climate Hazards Group.  University of California at Santa Barbara\n",
      "          invalid_standard_name: convective precipitation rate\n",
      "          reference: Funk, C.C., Peterson, P.J., Landsfeld, M.F., Pedreros, D.H., Verdin, J.P.,...\n",
      "          time_step: day\n",
      "          title: CHIRPS Version 2.0\n",
      "          version: Version 2.0\n",
      "          website: http://chg.geog.ucsb.edu/data/chirps/index.html\n"
     ]
    }
   ],
   "source": [
    "# W_Africa_file = iris.load(DATA_PATH + 'W_Africa_chirps.nc')\n",
    "# W_Africa_precip = W_Africa_file[0]\n",
    "# print (W_Africa_precip)"
   ]
  },
  {
   "cell_type": "markdown",
   "metadata": {},
   "source": [
    "#### Create seasonal means"
   ]
  },
  {
   "cell_type": "code",
   "execution_count": 29,
   "metadata": {},
   "outputs": [],
   "source": [
    "coord_cat.add_season(N_Guana_precip, 'time', name='clim_season')\n",
    "coord_cat.add_season_year(N_Guana_precip, 'time', name='season_year')\n",
    "\n",
    "coord_cat.add_season(S_Guana_precip, 'time', name='clim_season')\n",
    "coord_cat.add_season_year(S_Guana_precip, 'time', name='season_year')"
   ]
  },
  {
   "cell_type": "code",
   "execution_count": 30,
   "metadata": {},
   "outputs": [
    {
     "name": "stdout",
     "output_type": "stream",
     "text": [
      "stratiform_rainfall_rate / (kg m-2 s-1) (time: 3600; latitude: 16; longitude: 14)\n",
      "     Dimension coordinates:\n",
      "          time                               x               -              -\n",
      "          latitude                           -               x              -\n",
      "          longitude                          -               -              x\n",
      "     Auxiliary coordinates:\n",
      "          clim_season                        x               -              -\n",
      "          season_year                        x               -              -\n",
      "     Attributes:\n",
      "          CDI: Climate Data Interface version 1.9.3 (http://mpimet.mpg.de/cdi)\n",
      "          CDO: Climate Data Operators version 1.9.3 (http://mpimet.mpg.de/cdo)\n",
      "          Conventions: CF-1.5\n",
      "          PP_LBPROC: 128\n",
      "          PP_LBTIM: 122\n",
      "          PP_MEAN_PERIOD: 1.0\n",
      "          STASH: m01s04i203\n",
      "          contact: rachel.stratton@metoffice.gov.uk\n",
      "          copyright: (C) Crown Copyright, 2015 the Met Office\n",
      "          experiment: CP4\n",
      "          experiment_id: ac144\n",
      "          institution: Met Office Hadley Centre\n",
      "          institution_id: MOHC\n",
      "          model: Regional GA7 configuration on Africa 4.5 km\n",
      "          model_id: mean\n",
      "          project_id: IMPALA\n",
      "          source: Data from Met Office Unified Model\n",
      "          um_runid: ac144\n",
      "          um_streamid: apa\n",
      "          um_version: 10.3\n",
      "     Cell methods:\n",
      "          mean: time (1 hour)\n",
      "          mean: time\n"
     ]
    }
   ],
   "source": [
    "print(S_Guana_precip)"
   ]
  },
  {
   "cell_type": "code",
   "execution_count": 31,
   "metadata": {},
   "outputs": [],
   "source": [
    "N_Guana = N_Guana_precip.aggregated_by(\n",
    "    ['clim_season', 'season_year'],\n",
    "    iris.analysis.MEAN)\n",
    "\n",
    "S_Guana = S_Guana_precip.aggregated_by(\n",
    "    ['clim_season', 'season_year'],\n",
    "    iris.analysis.MEAN)"
   ]
  },
  {
   "cell_type": "code",
   "execution_count": 32,
   "metadata": {},
   "outputs": [
    {
     "name": "stdout",
     "output_type": "stream",
     "text": [
      "mam 1997\n",
      "jja 1997\n",
      "son 1997\n",
      "djf 1998\n",
      "mam 1998\n",
      "jja 1998\n",
      "son 1998\n",
      "djf 1999\n",
      "mam 1999\n",
      "jja 1999\n"
     ]
    }
   ],
   "source": [
    "for season, year in zip(\n",
    "    S_Guana.coord('clim_season')[:10].points,\n",
    "    S_Guana.coord('season_year')[:10].points):\n",
    "    print(season + ' ' + str(year))"
   ]
  },
  {
   "cell_type": "markdown",
   "metadata": {},
   "source": [
    "#### Plot some data to check"
   ]
  },
  {
   "cell_type": "code",
   "execution_count": 33,
   "metadata": {},
   "outputs": [
    {
     "name": "stdout",
     "output_type": "stream",
     "text": [
      "stratiform_rainfall_rate / (kg m-2 s-1) (time: 40; latitude: 16; longitude: 14)\n",
      "     Dimension coordinates:\n",
      "          time                               x             -              -\n",
      "          latitude                           -             x              -\n",
      "          longitude                          -             -              x\n",
      "     Auxiliary coordinates:\n",
      "          clim_season                        x             -              -\n",
      "          season_year                        x             -              -\n",
      "     Attributes:\n",
      "          CDI: Climate Data Interface version 1.9.3 (http://mpimet.mpg.de/cdi)\n",
      "          CDO: Climate Data Operators version 1.9.3 (http://mpimet.mpg.de/cdo)\n",
      "          Conventions: CF-1.5\n",
      "          PP_LBPROC: 128\n",
      "          PP_LBTIM: 122\n",
      "          PP_MEAN_PERIOD: 1.0\n",
      "          STASH: m01s04i203\n",
      "          contact: rachel.stratton@metoffice.gov.uk\n",
      "          copyright: (C) Crown Copyright, 2015 the Met Office\n",
      "          experiment: CP4\n",
      "          experiment_id: ac144\n",
      "          institution: Met Office Hadley Centre\n",
      "          institution_id: MOHC\n",
      "          model: Regional GA7 configuration on Africa 4.5 km\n",
      "          model_id: mean\n",
      "          project_id: IMPALA\n",
      "          source: Data from Met Office Unified Model\n",
      "          um_runid: ac144\n",
      "          um_streamid: apa\n",
      "          um_version: 10.3\n",
      "     Cell methods:\n",
      "          mean: time (1 hour)\n",
      "          mean: time\n",
      "          mean: clim_season, season_year\n"
     ]
    },
    {
     "data": {
      "text/plain": [
       "<cartopy.mpl.feature_artist.FeatureArtist at 0x7fb4a85ca828>"
      ]
     },
     "execution_count": 33,
     "metadata": {},
     "output_type": "execute_result"
    },
    {
     "data": {
      "image/png": "[encoded data removed]",
      "text/plain": [
       "<Figure size 432x288 with 2 Axes>"
      ]
     },
     "metadata": {
      "needs_background": "light"
     },
     "output_type": "display_data"
    }
   ],
   "source": [
    "print(S_Guana)\n",
    "qplt.pcolormesh(S_Guana[0]) # plot the rainfall in the first time step\n",
    "plt.gca().coastlines()"
   ]
  },
  {
   "cell_type": "markdown",
   "metadata": {},
   "source": [
    "#### Create areal-average time series for Guana"
   ]
  },
  {
   "cell_type": "code",
   "execution_count": 36,
   "metadata": {},
   "outputs": [],
   "source": [
    "grid_area_weights = iris.analysis.cartography.area_weights(N_Guana)\n",
    "\n",
    "# Perform the area-weighted mean using the computed grid-box areas.\n",
    "N_Guana_mean = N_Guana.collapsed(['latitude', 'longitude'],\n",
    "                                iris.analysis.MEAN,\n",
    "                                weights=grid_area_weights)"
   ]
  },
  {
   "cell_type": "code",
   "execution_count": 35,
   "metadata": {},
   "outputs": [],
   "source": [
    "grid_area_weights = iris.analysis.cartography.area_weights(S_Guana)\n",
    "\n",
    "# Perform the area-weighted mean using the computed grid-box areas.\n",
    "S_Guana_mean = S_Guana.collapsed(['latitude', 'longitude'],\n",
    "                                iris.analysis.MEAN,\n",
    "                                weights=grid_area_weights)"
   ]
  },
  {
   "cell_type": "markdown",
   "metadata": {},
   "source": [
    "#### Extract JJA data"
   ]
  },
  {
   "cell_type": "code",
   "execution_count": 37,
   "metadata": {},
   "outputs": [
    {
     "name": "stdout",
     "output_type": "stream",
     "text": [
      "stratiform_rainfall_rate / (kg m-2 s-1) (time: 10)\n",
      "     Dimension coordinates:\n",
      "          time                               x\n",
      "     Auxiliary coordinates:\n",
      "          clim_season                        x\n",
      "          season_year                        x\n",
      "     Scalar coordinates:\n",
      "          latitude: 9.4921875 degrees, bound=(7.96875, 11.015625) degrees\n",
      "          longitude: -1.0556640625 degrees, bound=(-3.5166015625, 1.4052734375) degrees\n",
      "     Attributes:\n",
      "          CDI: Climate Data Interface version 1.9.3 (http://mpimet.mpg.de/cdi)\n",
      "          CDO: Climate Data Operators version 1.9.3 (http://mpimet.mpg.de/cdo)\n",
      "          Conventions: CF-1.5\n",
      "          PP_LBPROC: 128\n",
      "          PP_LBTIM: 122\n",
      "          PP_MEAN_PERIOD: 1.0\n",
      "          STASH: m01s04i203\n",
      "          contact: rachel.stratton@metoffice.gov.uk\n",
      "          copyright: (C) Crown Copyright, 2015 the Met Office\n",
      "          experiment: CP4\n",
      "          experiment_id: ac144\n",
      "          institution: Met Office Hadley Centre\n",
      "          institution_id: MOHC\n",
      "          model: Regional GA7 configuration on Africa 4.5 km\n",
      "          model_id: mean\n",
      "          project_id: IMPALA\n",
      "          source: Data from Met Office Unified Model\n",
      "          um_runid: ac144\n",
      "          um_streamid: apa\n",
      "          um_version: 10.3\n",
      "     Cell methods:\n",
      "          mean: time (1 hour)\n",
      "          mean: time\n",
      "          mean: clim_season, season_year\n",
      "          mean: latitude, longitude\n",
      "stratiform_rainfall_rate / (kg m-2 s-1) (time: 10)\n",
      "     Dimension coordinates:\n",
      "          time                               x\n",
      "     Auxiliary coordinates:\n",
      "          clim_season                        x\n",
      "          season_year                        x\n",
      "     Scalar coordinates:\n",
      "          latitude: 6.328125 degrees, bound=(4.453125, 8.203125) degrees\n",
      "          longitude: -1.0556640625 degrees, bound=(-3.5166015625, 1.4052734375) degrees\n",
      "     Attributes:\n",
      "          CDI: Climate Data Interface version 1.9.3 (http://mpimet.mpg.de/cdi)\n",
      "          CDO: Climate Data Operators version 1.9.3 (http://mpimet.mpg.de/cdo)\n",
      "          Conventions: CF-1.5\n",
      "          PP_LBPROC: 128\n",
      "          PP_LBTIM: 122\n",
      "          PP_MEAN_PERIOD: 1.0\n",
      "          STASH: m01s04i203\n",
      "          contact: rachel.stratton@metoffice.gov.uk\n",
      "          copyright: (C) Crown Copyright, 2015 the Met Office\n",
      "          experiment: CP4\n",
      "          experiment_id: ac144\n",
      "          institution: Met Office Hadley Centre\n",
      "          institution_id: MOHC\n",
      "          model: Regional GA7 configuration on Africa 4.5 km\n",
      "          model_id: mean\n",
      "          project_id: IMPALA\n",
      "          source: Data from Met Office Unified Model\n",
      "          um_runid: ac144\n",
      "          um_streamid: apa\n",
      "          um_version: 10.3\n",
      "     Cell methods:\n",
      "          mean: time (1 hour)\n",
      "          mean: time\n",
      "          mean: clim_season, season_year\n",
      "          mean: latitude, longitude\n"
     ]
    }
   ],
   "source": [
    "jja_constraint = iris.Constraint(clim_season='jja')\n",
    "\n",
    "N_Guana_jja = N_Guana_mean.extract(jja_constraint)\n",
    "S_Guana_jja = S_Guana_mean.extract(jja_constraint)\n",
    "\n",
    "print(N_Guana_jja)\n",
    "print(S_Guana_jja)"
   ]
  },
  {
   "cell_type": "code",
   "execution_count": 38,
   "metadata": {},
   "outputs": [
    {
     "data": {
      "text/plain": [
       "Text(0.5, 1.0, 'North Guana JJA Precip')"
      ]
     },
     "execution_count": 38,
     "metadata": {},
     "output_type": "execute_result"
    },
    {
     "data": {
      "image/png": "[encoded data removed]",
      "text/plain": [
       "<Figure size 432x288 with 1 Axes>"
      ]
     },
     "metadata": {
      "needs_background": "light"
     },
     "output_type": "display_data"
    }
   ],
   "source": [
    "qplt.plot(N_Guana_jja)\n",
    "plt.title('North Guana JJA Precip')"
   ]
  },
  {
   "cell_type": "code",
   "execution_count": 39,
   "metadata": {},
   "outputs": [
    {
     "data": {
      "text/plain": [
       "Text(0.5, 1.0, 'South Guana JJA Precip')"
      ]
     },
     "execution_count": 39,
     "metadata": {},
     "output_type": "execute_result"
    },
    {
     "data": {
      "image/png": "[encoded data removed]",
      "text/plain": [
       "<Figure size 432x288 with 1 Axes>"
      ]
     },
     "metadata": {
      "needs_background": "light"
     },
     "output_type": "display_data"
    }
   ],
   "source": [
    "qplt.plot(S_Guana_jja)\n",
    "plt.title('South Guana JJA Precip')"
   ]
  },
  {
   "cell_type": "code",
   "execution_count": 40,
   "metadata": {},
   "outputs": [],
   "source": [
    "iris.save (N_Guana_jja, 'N_Guana_CP4.nc')\n",
    "iris.save (S_Guana_jja, 'S_Guana_CP4.nc')"
   ]
  }
 ],
 "metadata": {
  "kernelspec": {
   "display_name": "Python 3 + Jaspy",
   "language": "python",
   "name": "jaspy"
  },
  "language_info": {
   "codemirror_mode": {
    "name": "ipython",
    "version": 3
   },
   "file_extension": ".py",
   "mimetype": "text/x-python",
   "name": "python",
   "nbconvert_exporter": "python",
   "pygments_lexer": "ipython3",
   "version": "3.7.1"
  }
 },
 "nbformat": 4,
 "nbformat_minor": 4
}
