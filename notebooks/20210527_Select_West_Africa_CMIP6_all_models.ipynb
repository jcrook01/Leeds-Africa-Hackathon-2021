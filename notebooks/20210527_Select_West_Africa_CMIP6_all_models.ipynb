#!/bin/bash
shopt -s extglob
# Michael Baidu     21/05/21

#Warning: THIS IS A BASH SCRIPT AND NOT A PYTHON SCRIPT!
#Script for preprocessing data from a list of CMIP6 models. For each model, West Africa is selected and for the MJJAS season. This is with the purpose of analysing precipitation extremes by computing the 99th percentile of the precipitation (which is done later with the python script: /gws/pw/j05/cop26_hackathons/leeds/ministry/notebooks/20210527_Plot_90_percentile_of_CMIP6_rainfall_MJJAS_all_models.ipynb)
#This work was part of the Leeds MOAP Hackathon, 2021
#The script was written by Michael Baidu, PhD Researcher, Institute of Climate and Atmospheric Science (ICAS), University of Leeds. email: eembai@leeds.ac.uk twitter: @MichaelBaidu1 



models="ACCESS-CM2 ACCESS-ESM1-5 BCC-CSM2-MR CAMS-CSM1-0 CanESM5 MPI-ESM1-2-LR NorESM2-LM NorESM2-MM TaiESM1 UKESM1-0-LL"

for model in $models ; do
	
	if [[ $model == TaiESM1 ]] ; then
		institute=AS-RCEC
		variant=r1i1p1f1
		version=v20200902
		period=20550101-20641231
	elif [[ $model == BCC-CSM2-MR ]] ; then
		institute=BCC
		variant=r1i1p1f1
		version=v20190318
		period=20400101-20641231
	elif [[ $model == CAMS-CSM1-0 ]] ; then
		institute=CAMS
		variant=r2i1p1f1
		version=v20191106
		period=20150101-20991231
	elif [[ $model == CanESM5 ]] ; then
		institute=CCCma
		variant=r10i1p1f1
		version=v20190429
		period=20150101-21001231
	elif [[ $model == ACCESS-ESM1-5 ]] ; then
		institute=CSIRO
		variant=r1i1p1f1
		version=v20191115
		period=20150101-20641231
	elif [[ $model == ACCESS-CM2 ]] ; then
		institute=CSIRO-ARCCSS
		variant=r1i1p1f1
		version=v20191108
		period=20150101-20641231
	#elif [[ $model == MPI-ESM1-2-HR ]] ; then
		#institute=DWD
		#variant=r2i1p1f1
		#version=v20190710
		#period=20350101-20391231
	elif [[ $model == MPI-ESM1-2-LR ]] ; then
		institute=MPI-M
		variant=r1i1p1f1
		version=v20190710
		period=20350101-20541231
	elif [[ $model == NorESM2-LM ]] ; then
		institute=NCC
		variant=r1i1p1f1
		version=v20191108
		period=20310101-20401231
	elif [[ $model == NorESM2-MM ]] ; then
		institute=NCC
		variant=r1i1p1f1
		version=v20191108
		period=20310101-20401231
	elif [[ $model == UKESM1-0-LL ]] ; then
		institute=NIMS-KMA
		variant=r13i1p1f2
		version=v20210428
		period=20150101-20491230
	fi
	
	input_dir=/badc/cmip6/data/CMIP6/ScenarioMIP/${institute}/${model}/ssp585/${variant}/day/pr/gn/${version}
	output_dir=/gws/pw/j05/cop26_hackathons/leeds/ministry/Michael/models

	#select MJJAS season
	if [[ 1 -eq 1  ]] ; then 
		cdo -O selmon,5,6,7,8,9 $input_dir/pr_day_${model}_ssp585_${variant}_gn_${period}.nc ${output_dir}/pr_day_${model}_ssp585_${period}_MJJAS_simplified.nc 
	fi

	#Regrid files
	if [[ 1 -eq 1 ]] ; then
		min_lon=-20 
		min_lat= 0
		max_lon=15 
		max_lat=40
		cdo remapbil,targetgrid2 ${output_dir}/pr_day_${model}_ssp585_${period}_MJJAS_simplified.nc ${output_dir}/pr_day_${model}_ssp585_${period}_MJJAS_simplified_latlon_regrid.nc
		#select West Africa
		cdo -O sellonlatbox,${min_lon},${max_lon},${min_lat},${max_lat} ${output_dir}/pr_day_${model}_ssp585_${period}_MJJAS_simplified_latlon_regrid.nc ${output_dir}/pr_day_${model}_ssp585_${period}_MJJAS_simplified_latlon_regrid_WA.nc
	fi
	
	
done
